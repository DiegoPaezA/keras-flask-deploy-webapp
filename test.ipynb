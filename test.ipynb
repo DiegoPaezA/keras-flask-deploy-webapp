{
 "cells": [
  {
   "cell_type": "code",
   "execution_count": 1,
   "metadata": {},
   "outputs": [],
   "source": [
    "# TensorFlow and tf.keras\n",
    "import tensorflow as tf\n",
    "from tensorflow import keras\n",
    "\n",
    "from tensorflow.keras.applications.imagenet_utils import preprocess_input, decode_predictions\n",
    "from tensorflow.keras.models import load_model\n",
    "from tensorflow.keras.preprocessing import image\n",
    "\n",
    "# Some utilites\n",
    "import numpy as np\n",
    "from util import base64_to_pil\n"
   ]
  },
  {
   "cell_type": "code",
   "execution_count": 18,
   "metadata": {},
   "outputs": [],
   "source": [
    "MODEL_PATH = 'models/finetuned_Model.h5'\n",
    "Labels_PATH = 'models/food_10_classes.txt'\n",
    "\n",
    "# Load your own trained model\n",
    "model = load_model(MODEL_PATH)\n",
    "\n",
    "# Load the labels\n",
    "labels = []\n",
    "with open(Labels_PATH, 'r') as file:\n",
    "    labels = [line for line in file.read().split('\\n') if line]"
   ]
  },
  {
   "cell_type": "code",
   "execution_count": 30,
   "metadata": {},
   "outputs": [],
   "source": [
    "def model_predict(img, model):\n",
    "    img = img.resize((224, 224))\n",
    "\n",
    "    # Preprocessing the image\n",
    "    x = image.img_to_array(img)\n",
    "    # x = np.true_divide(x, 255)\n",
    "    x = np.expand_dims(x, axis=0)\n",
    "\n",
    "    # Be careful how your trained model deals with the input\n",
    "    # otherwise, it won't make correct prediction!\n",
    "    #x = preprocess_input(x, mode='tf')\n",
    "    #print (x.shape)\n",
    "\n",
    "    preds = model.predict(x)\n",
    "    return preds"
   ]
  },
  {
   "cell_type": "code",
   "execution_count": 32,
   "metadata": {},
   "outputs": [
    {
     "name": "stdout",
     "output_type": "stream",
     "text": [
      "Predicted food: steak, Probability: 0.806\n"
     ]
    }
   ],
   "source": [
    "# load image in PIL format\n",
    "import os\n",
    "\n",
    "test_img = os.path.join(\"images\", 'steak_4.jpg')\n",
    "\n",
    "img = image.load_img(test_img)\n",
    "preds = model_predict(img, model)\n",
    "pred_proba = \"{:.3f}\".format(np.amax(preds))    # Max probability\n",
    "# Process your result for human\n",
    "preds = np.argmax(preds, axis=1)            # Simple argmax\n",
    "\n",
    "print(f\"Predicted food: {labels[preds[0]]}, Probability: {pred_proba}\")"
   ]
  }
 ],
 "metadata": {
  "kernelspec": {
   "display_name": "gpu",
   "language": "python",
   "name": "python3"
  },
  "language_info": {
   "codemirror_mode": {
    "name": "ipython",
    "version": 3
   },
   "file_extension": ".py",
   "mimetype": "text/x-python",
   "name": "python",
   "nbconvert_exporter": "python",
   "pygments_lexer": "ipython3",
   "version": "3.9.13"
  }
 },
 "nbformat": 4,
 "nbformat_minor": 2
}
